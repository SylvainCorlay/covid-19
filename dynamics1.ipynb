{
 "cells": [
  {
   "cell_type": "markdown",
   "metadata": {},
   "source": [
    "# COVID-19 Dynamics\n",
    "\n",
    "There are many visiualizations of the ongoing [COVID-19](https://en.wikipedia.org/wiki/Coronavirus_disease_2019) (or Corona) virus outbreak including this very popular [ARCGIS one](https://gisanddata.maps.arcgis.com/apps/opsdashboard/index.html#/bda7594740fd40299423467b48e9ecf6). As most are static, this one specifically aims to illustrate the dynamics of the COVID-19 virus infection using the official datasets available at https://github.com/CSSEGISandData/COVID-19. It builds on [Jupyter](https://jupyter.org), [IPyLeaflet](https://github.com/jupyter-widgets/ipyleaflet), [Pandas](https://pandas.pydata.org/), [Voilà](https://github.com/voila-dashboards/voila) plus a little [ReportLab](https://reportlab.com), and running on [MyBinder](https://mybinder.org), too."
   ]
  },
  {
   "cell_type": "code",
   "execution_count": null,
   "metadata": {},
   "outputs": [],
   "source": [
    "from functools import partial\n",
    "from math import pi\n",
    "\n",
    "from ipyleaflet import basemap_to_tiles, basemaps, CircleMarker, \\\n",
    "    FullScreenControl, LayersControl, LayerGroup, Map, Marker, \\\n",
    "    Popup, WidgetControl\n",
    "from ipywidgets import IntSlider, HBox, HTML, jslink, Layout, Output, \\\n",
    "    Play, Image\n",
    "import pandas as pd\n",
    "from reportlab.graphics.barcode.qr import QrCodeWidget\n",
    "from reportlab.graphics.shapes import Drawing\n",
    "from reportlab.graphics import renderPM"
   ]
  },
  {
   "cell_type": "code",
   "execution_count": null,
   "metadata": {},
   "outputs": [],
   "source": [
    "url = (\"https://raw.githubusercontent.com/CSSEGISandData/COVID-19/\"\n",
    "       \"master/csse_covid_19_data/csse_covid_19_time_series/time_series_19-covid-Confirmed.csv\")\n",
    "df_confirmed = pd.read_csv(url)\n",
    "df_confirmed[\"Province/State\"].fillna(\"\", inplace=True)"
   ]
  },
  {
   "cell_type": "code",
   "execution_count": null,
   "metadata": {},
   "outputs": [],
   "source": [
    "# df_confirmed.describe()"
   ]
  },
  {
   "cell_type": "code",
   "execution_count": null,
   "metadata": {},
   "outputs": [],
   "source": [
    "# df_confirmed.head()"
   ]
  },
  {
   "cell_type": "code",
   "execution_count": null,
   "metadata": {},
   "outputs": [],
   "source": [
    "provinces = df_confirmed[\"Province/State\"]\n",
    "countries = df_confirmed[\"Country/Region\"]\n",
    "locations = list(zip(df_confirmed.Lat, df_confirmed.Long))\n",
    "day_cols = [col for col in df_confirmed.columns if col.count(\"/\") == 2]"
   ]
  },
  {
   "cell_type": "code",
   "execution_count": null,
   "metadata": {},
   "outputs": [],
   "source": [
    "print(f\"Data range: {day_cols[0]} – {day_cols[-1]}.\")"
   ]
  },
  {
   "cell_type": "code",
   "execution_count": null,
   "metadata": {},
   "outputs": [],
   "source": [
    "def radius_sphere(volume):\n",
    "    return (volume / pi / 4 * 3) ** (1/2.75)"
   ]
  },
  {
   "cell_type": "code",
   "execution_count": null,
   "metadata": {},
   "outputs": [],
   "source": [
    "def create_qrcode(value, size=50):\n",
    "    d = Drawing(size, size)\n",
    "    qr = QrCodeWidget(value=value, barWidth=size, barHeight=size)\n",
    "    d.add(qr)\n",
    "    return Image(\n",
    "        value=renderPM.drawToString(d, fmt=\"png\"),\n",
    "        format='png', width=size, height=size,\n",
    "    )"
   ]
  },
  {
   "cell_type": "code",
   "execution_count": null,
   "metadata": {},
   "outputs": [],
   "source": [
    "def slider_changed(change, the_map=None, output=None, slider=None, group=None):\n",
    "    day = change['new']\n",
    "    values = df_confirmed[day_cols[day]]\n",
    "    if slider:\n",
    "        slider.description = day_cols[day]\n",
    "    if the_map:\n",
    "        circle_layers = list(l for l in group.layers if type(l) == CircleMarker)\n",
    "        if not circle_layers:\n",
    "            # if output:\n",
    "            #     with output:\n",
    "            #         print(f\"updating {day_cols[day]}\")\n",
    "            markers = []\n",
    "            for i, loc in enumerate(locations):\n",
    "                place = countries[i] if not provinces[i] else f\"{provinces[i]}, {countries[i]}\"\n",
    "                rad = int(radius_sphere(values[i]))\n",
    "                marker = CircleMarker(\n",
    "                    location=tuple(loc),\n",
    "                    radius=rad,\n",
    "                    weight=0,\n",
    "                    color=\"red\" if rad > 0 else \"white\",\n",
    "                    opacity=rad > 0)\n",
    "                message = HTML(value = f\"<b>{day_cols[day]}: {values[i]} confirmed in {place}</b>\",\n",
    "                    # placeholder = \"Some HTML\",\n",
    "                    # description = \"Some HTML\"\n",
    "                )\n",
    "                marker.popup = message\n",
    "                markers.append(marker)\n",
    "            group.layers = tuple(markers)\n",
    "        else:\n",
    "            for i, marker in enumerate(circle_layers):\n",
    "                place = countries[i] if not provinces[i] else f\"{provinces[i]}, {countries[i]}\"\n",
    "                rad = int(radius_sphere(values[i]))\n",
    "                marker.radius = rad\n",
    "                marker.color=\"red\" if rad > 0 else \"white\"\n",
    "                marker.opacity = rad > 0\n",
    "                marker.weight = 0\n",
    "                marker.popup.value = f\"<b>{day_cols[day]}: {values[i]} confirmed in {place}</b>\""
   ]
  },
  {
   "cell_type": "code",
   "execution_count": null,
   "metadata": {},
   "outputs": [],
   "source": [
    "# output = Output()\n",
    "# display(output)\n",
    "\n",
    "m = Map(zoom=2, basemap=basemaps.CartoDB.Positron)\n",
    "\n",
    "m += FullScreenControl()\n",
    "\n",
    "# dark_matter_layer = basemap_to_tiles(basemaps.CartoDB.DarkMatter)\n",
    "# m.add_layer(dark_matter_layer)\n",
    "# nat_geo_world_layer = basemap_to_tiles(basemaps.Esri.NatGeoWorldMap)\n",
    "# m.add_layer(nat_geo_world_layer)\n",
    "layers_control = LayersControl(position='topright')\n",
    "m += layers_control\n",
    "\n",
    "confirmed_group = LayerGroup(layers=[], name=\"Confirmed\")\n",
    "m += confirmed_group\n",
    "\n",
    "play = Play(\n",
    "    value=0,\n",
    "    min=0,\n",
    "    max=len(day_cols)-1,\n",
    "    step=1,\n",
    "    interval=500,\n",
    "    # description=\"Press play\",\n",
    "    disabled=False\n",
    ")\n",
    "day_slider = IntSlider(\n",
    "    description='Day:',\n",
    "    layout=Layout(width=\"600px\"),\n",
    "    min=-1, max=len(day_cols)-1, value=-1)\n",
    "jslink((play, 'value'), (day_slider, 'value'))\n",
    "cb = partial(slider_changed,\n",
    "             the_map=m,\n",
    "             # output=output,\n",
    "             group=confirmed_group,\n",
    "             slider=day_slider)\n",
    "day_slider.observe(cb, names='value')\n",
    "widget_control1 = WidgetControl(\n",
    "    widget=HBox([play, day_slider]),\n",
    "    position='bottomleft',\n",
    "    layout=Layout(width=\"600px\"),\n",
    ")\n",
    "day_slider.value = 0\n",
    "day_slider.min = 0\n",
    "m.add_control(widget_control1)"
   ]
  },
  {
   "cell_type": "code",
   "execution_count": null,
   "metadata": {},
   "outputs": [],
   "source": [
    "widget_control2 = WidgetControl(\n",
    "    widget=create_qrcode(\"https://bit.ly/3dgCR7h\"),\n",
    "    position='bottomleft',\n",
    "    # layout=Layout(width=\"600px\"),\n",
    ")\n",
    "m.add_control(widget_control2)"
   ]
  },
  {
   "cell_type": "code",
   "execution_count": null,
   "metadata": {},
   "outputs": [],
   "source": [
    "m"
   ]
  }
 ],
 "metadata": {
  "kernelspec": {
   "display_name": "Python 3",
   "language": "python",
   "name": "python3"
  },
  "language_info": {
   "codemirror_mode": {
    "name": "ipython",
    "version": 3
   },
   "file_extension": ".py",
   "mimetype": "text/x-python",
   "name": "python",
   "nbconvert_exporter": "python",
   "pygments_lexer": "ipython3",
   "version": "3.7.6"
  }
 },
 "nbformat": 4,
 "nbformat_minor": 4
}
